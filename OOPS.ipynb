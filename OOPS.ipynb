{
  "nbformat": 4,
  "nbformat_minor": 0,
  "metadata": {
    "colab": {
      "provenance": []
    },
    "kernelspec": {
      "name": "python3",
      "display_name": "Python 3"
    },
    "language_info": {
      "name": "python"
    }
  },
  "cells": [
    {
      "cell_type": "markdown",
      "source": [
        " 1.What is Object-Oriented Programming (OOP)?\n",
        " Ans:OOP is a programming paradigm based on the concept of \"objects,\" which contain data (attributes) and methods (functions). It focuses on organizing code into reusable and modular components.\n",
        "\n",
        " 2. What is a class in OOP?\n",
        " Ans:A class is a blueprint for creating objects. It defines attributes (variables) and methods (functions) that its objects will have.\n",
        "\n",
        " 3.What is an object in OOP?\n",
        " Ans:An object is an instance of a class. It represents a real-world entity and has the properties and behaviors defined by its class.\n",
        "\n",
        " 4. What is the difference between abstraction and encapsulation?\n",
        " Ans:Abstraction :Hides complex implementation details\n",
        "                  Show only essential features\n",
        "    Encapsulation:Bundles data and methods together\n",
        "                  Protect data and prevent unauthorized access\n",
        "\n",
        "5. What are dunder methods in Python?\n",
        "Ans:Dunder methods (short for \"double underscore methods\") are special methods with names like __init__, __str__, etc., that let you customize the behavior of Python objects.\n",
        "\n",
        "6.Explain the concept of inheritance in OOP?\n",
        "Ans:Inheritance allows a class (child) to inherit properties and methods from another class (parent), promoting code reuse.\n",
        "\n",
        "7.What is polymorphism in OOP?\n",
        "Ans:Polymorphism means \"many forms.\" It allows different classes to define methods with the same name but different behavior.\n",
        "\n",
        "8. How is encapsulation achieved in Python?\n",
        "Ans:Encapsulation is achieved using private and protected access modifiers:\n",
        "\n",
        "_protected (convention)\n",
        "\n",
        "__private (name mangling)\n",
        "\n",
        "9.What is a constructor in Python?\n",
        "Ans:A constructor is a special method (__init__) that gets called automatically when a new object is created.\n",
        "\n",
        "10.What are class and static methods in Python?\n",
        "Ans:CLASS METHOD:Works with the class, not instance\n",
        "STATIC METHOD:No access to class or instance; utility\n",
        "\n",
        "11.What is method overloading in Python?\n",
        "Ans:Method overloading is defining multiple methods with the same name but different arguments.\n",
        "Python does not support true method overloading like some other languages (e.g., Java). However, it can be simulated using default arguments or *args.\n",
        "\n",
        "12.What is method overriding in OOP?\n",
        "Ans:Method overriding is when a child class provides a specific implementation of a method already defined in its parent class.\n",
        "\n",
        "13. What is a property decorator in Python?\n",
        "Ans:The @property decorator allows you to define a method that can be accessed like an attribute (read-only by default).\n",
        "\n",
        "14.Why is polymorphism important in OOP?\n",
        "Ans:Polymorphism allows different objects to be treated as instances of the same class through a common interface.\n",
        "\n",
        "15. What is an abstract class in Python?\n",
        "Ans:An abstract class is a class that cannot be instantiated and may contain abstract methods that must be implemented by subclasses.\n",
        "\n",
        "16.What are the advantages of OOP?\n",
        "Ans:Modularity: Code is organized into classes.\n",
        "Reusability: Use existing code via inheritance.\n",
        "Scalability:Easy to add new features.\n",
        "Maintainability:Easier to manage and debug.\n",
        "Data hiding: Encapsulation helps protect data.\n",
        "\n",
        "17.What is the difference between a class variable and an instance variable?\n",
        "Ans:CLASS VARIABLE-Scope:Shared across all instances\n",
        "Defined In: class body\n",
        "INSTANCE VARIABLE-Scope:Unique to each instance\n",
        "Defined In:Inside methods, typically __init__()\n",
        "\n",
        "18. What is multiple inheritance in Python?\n",
        "Ans:Multiple inheritance is when a class inherits from more than one parent class.\n",
        "\n",
        "20.What is the significance of the 'super()' function in Python?\n",
        "Ans:Purpose: Used to call methods from a parent class in a child class. Useful in inheritance when you want to build on top of the parent's behavior.\n",
        "\n",
        "21. What is the significance of the __del__ method in Python?\n",
        "Ans:Purpose: Called when an object is about to be destroyed (usually when it's no longer used). Used for cleanup actions like closing files or network connections.\n",
        "\n",
        "22. What is the difference between @staticmethod and @classmethod in Python?\n",
        "Ans:@staticmethod:No access to self or cls.\n",
        "Just a regular function inside a class.\n",
        "Used when the method doesn't need object or class data.\n",
        "@classmethod:Gets cls (class itself) as the first argument.\n",
        "Can access/modify class variables.\n",
        "\n",
        "23.How does polymorphism work in Python with inheritance?\n",
        "Ans:Polymorphism means many forms — different classes can have the same method name, but each behaves differently.\n",
        "\n",
        "24. What is method chaining in Python OOP?\n",
        "Ans:Purpose: To call multiple methods in one line, by returning self from each method.\n",
        "\n",
        "25.What is the purpose of the __call__ method in Python?\n",
        "Ans:Purpose: Makes an object callable like a function.\n",
        "\n",
        "\n"
      ],
      "metadata": {
        "id": "8FaB7EvsbHsv"
      }
    },
    {
      "cell_type": "code",
      "source": [
        "#1. Create a parent class Animal with a method speak() that prints a generic message. Create a child class Dog that overrides the speak() method to print \"Bark!\".\n",
        "class Animal:\n",
        "    def speak(self):\n",
        "        print(\"Animal makes a sound\")\n",
        "\n",
        "class Dog(Animal):\n",
        "    def speak(self):\n",
        "        print(\"Bark!\")\n",
        "\n",
        "dog = Dog()\n",
        "dog.speak()\n"
      ],
      "metadata": {
        "colab": {
          "base_uri": "https://localhost:8080/"
        },
        "id": "7nLPGZ_qBC02",
        "outputId": "a1a690c6-8c92-4ea6-a84c-1dc744701c06"
      },
      "execution_count": 1,
      "outputs": [
        {
          "output_type": "stream",
          "name": "stdout",
          "text": [
            "Bark!\n"
          ]
        }
      ]
    },
    {
      "cell_type": "code",
      "source": [
        "#2. Write a program to create an abstract class Shape with a method area(). Derive classes Circle and Rectangle from it and implement the area() method in both\n",
        "from abc import ABC, abstractmethod\n",
        "\n",
        "class Shape(ABC):\n",
        "    @abstractmethod\n",
        "    def area(self):\n",
        "        pass\n",
        "\n",
        "class Circle(Shape):\n",
        "    def __init__(self, radius):\n",
        "        self.radius = radius\n",
        "\n",
        "    def area(self):\n",
        "        return 3.14 * self.radius ** 2\n",
        "\n",
        "class Rectangle(Shape):\n",
        "    def __init__(self, width, height):\n",
        "        self.width = width\n",
        "        self.height = height\n",
        "\n",
        "    def area(self):\n",
        "        return self.width * self.height\n",
        "\n",
        "c = Circle(5)\n",
        "r = Rectangle(4, 6)\n",
        "\n",
        "print(c.area())\n",
        "print(r.area())\n"
      ],
      "metadata": {
        "colab": {
          "base_uri": "https://localhost:8080/"
        },
        "id": "anFruZUBBmxv",
        "outputId": "43bfc76e-a859-459f-9c1a-8b2d32747505"
      },
      "execution_count": 2,
      "outputs": [
        {
          "output_type": "stream",
          "name": "stdout",
          "text": [
            "78.5\n",
            "24\n"
          ]
        }
      ]
    },
    {
      "cell_type": "code",
      "source": [
        "#3.Implement a multi-level inheritance scenario where a class Vehicle has an attribute type. Derive a class Car and further derive a class ElectricCar that adds a battery attribute\n",
        "class Vehicle:\n",
        "    def __init__(self, type):\n",
        "        self.type = type\n",
        "\n",
        "class Car(Vehicle):\n",
        "    def __init__(self, type, brand):\n",
        "        super().__init__(type)\n",
        "        self.brand = brand\n",
        "\n",
        "class ElectricCar(Car):\n",
        "    def __init__(self, type, brand, battery):\n",
        "        super().__init__(type, brand)\n",
        "        self.battery = battery\n",
        "\n",
        "e_car = ElectricCar(\"Electric\", \"Tesla\", \"100 kWh\")\n",
        "print(e_car.type)\n",
        "print(e_car.brand)\n",
        "print(e_car.battery)\n"
      ],
      "metadata": {
        "colab": {
          "base_uri": "https://localhost:8080/"
        },
        "id": "lchpPRSNByJU",
        "outputId": "222ab7f5-4743-4f9d-8475-841ba46bb98c"
      },
      "execution_count": 3,
      "outputs": [
        {
          "output_type": "stream",
          "name": "stdout",
          "text": [
            "Electric\n",
            "Tesla\n",
            "100 kWh\n"
          ]
        }
      ]
    },
    {
      "cell_type": "code",
      "source": [
        "#4. Demonstrate polymorphism by creating a base class Bird with a method fly(). Create two derived classes Sparrow and Penguin that override the fly() method.\n",
        "class Bird:\n",
        "    def fly(self):\n",
        "        print(\"Bird is flying\")\n",
        "\n",
        "class Sparrow(Bird):\n",
        "    def fly(self):\n",
        "        print(\"Sparrow flies high\")\n",
        "\n",
        "class Penguin(Bird):\n",
        "    def fly(self):\n",
        "        print(\"Penguins cannot fly\")\n",
        "\n",
        "birds = [Sparrow(), Penguin()]\n",
        "for bird in birds:\n",
        "    bird.fly()\n"
      ],
      "metadata": {
        "colab": {
          "base_uri": "https://localhost:8080/"
        },
        "id": "-KXiFVe1B-Bv",
        "outputId": "d27c155c-1306-44f4-d44e-d8af52994daa"
      },
      "execution_count": 4,
      "outputs": [
        {
          "output_type": "stream",
          "name": "stdout",
          "text": [
            "Sparrow flies high\n",
            "Penguins cannot fly\n"
          ]
        }
      ]
    },
    {
      "cell_type": "code",
      "source": [
        "#5. Write a program to demonstrate encapsulation by creating a class BankAccount with private attributes balance and methods to deposit, withdraw, and check balance\n",
        "class BankAccount:\n",
        "    def __init__(self):\n",
        "        self.__balance = 0  # Private attribute\n",
        "\n",
        "    def deposit(self, amount):\n",
        "        self.__balance += amount\n",
        "\n",
        "    def withdraw(self, amount):\n",
        "        if amount <= self.__balance:\n",
        "            self.__balance -= amount\n",
        "        else:\n",
        "            print(\"Insufficient balance\")\n",
        "\n",
        "    def get_balance(self):\n",
        "        return self.__balance\n",
        "\n",
        "acc = BankAccount()\n",
        "acc.deposit(1000)\n",
        "acc.withdraw(300)\n",
        "print(acc.get_balance())\n"
      ],
      "metadata": {
        "colab": {
          "base_uri": "https://localhost:8080/"
        },
        "id": "HBobm-RvCII4",
        "outputId": "08b9b579-6173-474d-f93a-8ba227aa9759"
      },
      "execution_count": 5,
      "outputs": [
        {
          "output_type": "stream",
          "name": "stdout",
          "text": [
            "700\n"
          ]
        }
      ]
    },
    {
      "cell_type": "code",
      "source": [
        "#6. Demonstrate runtime polymorphism using a method play() in a base class Instrument. Derive classes Guitar and Piano that implement their own version of play()\n",
        "class Instrument:\n",
        "    def play(self):\n",
        "        print(\"Playing instrument\")\n",
        "\n",
        "class Guitar(Instrument):\n",
        "    def play(self):\n",
        "        print(\"Strumming the guitar\")\n",
        "\n",
        "class Piano(Instrument):\n",
        "    def play(self):\n",
        "        print(\"Playing the piano\")\n",
        "\n",
        "instruments = [Guitar(), Piano()]\n",
        "for inst in instruments:\n",
        "    inst.play()\n"
      ],
      "metadata": {
        "colab": {
          "base_uri": "https://localhost:8080/"
        },
        "id": "ZQ5j4-5CCQut",
        "outputId": "7df48310-a4c8-4e4e-86f6-f22d3a1b21e6"
      },
      "execution_count": 6,
      "outputs": [
        {
          "output_type": "stream",
          "name": "stdout",
          "text": [
            "Strumming the guitar\n",
            "Playing the piano\n"
          ]
        }
      ]
    },
    {
      "cell_type": "code",
      "source": [
        "# 7. Create a class MathOperations with a class method add_numbers() to add two numbers and a static method subtract_numbers() to subtract two numbers\n",
        "class MathOperations:\n",
        "    @classmethod\n",
        "    def add_numbers(cls, a, b):\n",
        "        return a + b\n",
        "\n",
        "    @staticmethod\n",
        "    def subtract_numbers(a, b):\n",
        "        return a - b\n",
        "print(MathOperations.add_numbers(10, 5))\n",
        "print(MathOperations.subtract_numbers(10, 5))\n"
      ],
      "metadata": {
        "colab": {
          "base_uri": "https://localhost:8080/"
        },
        "id": "wGxrdLmrCiyD",
        "outputId": "d9105310-f974-4e8c-e9f0-20d28130bca1"
      },
      "execution_count": 7,
      "outputs": [
        {
          "output_type": "stream",
          "name": "stdout",
          "text": [
            "15\n",
            "5\n"
          ]
        }
      ]
    },
    {
      "cell_type": "code",
      "source": [
        "# 8. Implement a class Person with a class method to count the total number of persons created\n",
        "class Person:\n",
        "    count = 0\n",
        "\n",
        "    def __init__(self, name):\n",
        "        self.name = name\n",
        "        Person.count += 1\n",
        "\n",
        "    @classmethod\n",
        "    def total_persons(cls):\n",
        "        return cls.count\n",
        "p1 = Person(\"Alice\")\n",
        "p2 = Person(\"Bob\")\n",
        "print(Person.total_persons())\n"
      ],
      "metadata": {
        "colab": {
          "base_uri": "https://localhost:8080/"
        },
        "id": "nP5OPSEVC9-l",
        "outputId": "a428f689-cb6f-4092-83da-d67ca4129dfa"
      },
      "execution_count": 8,
      "outputs": [
        {
          "output_type": "stream",
          "name": "stdout",
          "text": [
            "2\n"
          ]
        }
      ]
    },
    {
      "cell_type": "code",
      "source": [
        "# 9. Write a class Fraction with attributes numerator and denominator. Override the str method to display the fraction as \"numerator/denominator\"\n",
        "class Fraction:\n",
        "    def __init__(self, numerator, denominator):\n",
        "        self.numerator = numerator\n",
        "        self.denominator = denominator\n",
        "\n",
        "    def __str__(self):\n",
        "        return f\"{self.numerator}/{self.denominator}\"\n",
        "\n",
        "f = Fraction(3, 4)\n",
        "print(f)\n"
      ],
      "metadata": {
        "colab": {
          "base_uri": "https://localhost:8080/"
        },
        "id": "AToUesvFDGw3",
        "outputId": "aa3b1965-145b-4df4-c0c3-8a9451d997e2"
      },
      "execution_count": 9,
      "outputs": [
        {
          "output_type": "stream",
          "name": "stdout",
          "text": [
            "3/4\n"
          ]
        }
      ]
    },
    {
      "cell_type": "code",
      "source": [
        "# 10. Demonstrate operator overloading by creating a class Vector and overriding the add method to add two vectors\n",
        "class Vector:\n",
        "    def __init__(self, x, y):\n",
        "        self.x = x\n",
        "        self.y = y\n",
        "\n",
        "    def __add__(self, other):\n",
        "        return Vector(self.x + other.x, self.y + other.y)\n",
        "\n",
        "    def __str__(self):\n",
        "        return f\"({self.x}, {self.y})\"\n",
        "\n",
        "\n",
        "v1 = Vector(1, 2)\n",
        "v2 = Vector(3, 4)\n",
        "v3 = v1 + v2\n",
        "print(v3)\n",
        "\n"
      ],
      "metadata": {
        "colab": {
          "base_uri": "https://localhost:8080/"
        },
        "id": "dgpHqrqQDQ0s",
        "outputId": "46c70453-0bca-4d80-b612-3443f9e8e6d6"
      },
      "execution_count": 10,
      "outputs": [
        {
          "output_type": "stream",
          "name": "stdout",
          "text": [
            "(4, 6)\n"
          ]
        }
      ]
    },
    {
      "cell_type": "code",
      "source": [
        "# 11. Create a class Person with attributes name and age. Add a method greet() that prints \"Hello, my name is {name} and I am {age} years old.\n",
        "class Person:\n",
        "    def __init__(self, name, age):\n",
        "        self.name = name\n",
        "        self.age = age\n",
        "\n",
        "    def greet(self):\n",
        "        print(f\"Hello, my name is {self.name} and I am {self.age} years old.\")\n",
        "\n",
        "\n",
        "p = Person(\"Arpita\", 24)\n",
        "p.greet()\n",
        "\n"
      ],
      "metadata": {
        "colab": {
          "base_uri": "https://localhost:8080/"
        },
        "id": "y4kCo303Daty",
        "outputId": "3ae66b71-a3ac-4d69-ce0a-91c9abedbac5"
      },
      "execution_count": 12,
      "outputs": [
        {
          "output_type": "stream",
          "name": "stdout",
          "text": [
            "Hello, my name is Arpita and I am 24 years old.\n"
          ]
        }
      ]
    },
    {
      "cell_type": "code",
      "source": [
        "# 12. Implement a class Student with attributes name and grades. Create a method average_grade() to compute the average of the grade\n",
        "class Student:\n",
        "    def __init__(self, name, grades):\n",
        "        self.name = name\n",
        "        self.grades = grades\n",
        "\n",
        "    def average_grade(self):\n",
        "        return sum(self.grades) / len(self.grades)\n",
        "\n",
        "\n",
        "s = Student(\"Emma\", [90, 80, 85])\n",
        "print(s.average_grade())\n",
        "\n"
      ],
      "metadata": {
        "colab": {
          "base_uri": "https://localhost:8080/"
        },
        "id": "6Nab5QqrDqPc",
        "outputId": "6bf4e874-2d09-4a68-b653-62dda932ff7c"
      },
      "execution_count": 13,
      "outputs": [
        {
          "output_type": "stream",
          "name": "stdout",
          "text": [
            "85.0\n"
          ]
        }
      ]
    },
    {
      "cell_type": "code",
      "source": [
        "# 13. Create a class Rectangle with methods set_dimensions() to set the dimensions and area() to calculate the area\n",
        "class Rectangle:\n",
        "    def set_dimensions(self, width, height):\n",
        "        self.width = width\n",
        "        self.height = height\n",
        "\n",
        "    def area(self):\n",
        "        return self.width * self.height\n",
        "\n",
        "r = Rectangle()\n",
        "r.set_dimensions(4, 5)\n",
        "print(r.area())\n",
        "\n"
      ],
      "metadata": {
        "colab": {
          "base_uri": "https://localhost:8080/"
        },
        "id": "ORL5isP-D0zA",
        "outputId": "34892901-d392-49cc-fbc2-063e72d270c3"
      },
      "execution_count": 14,
      "outputs": [
        {
          "output_type": "stream",
          "name": "stdout",
          "text": [
            "20\n"
          ]
        }
      ]
    },
    {
      "cell_type": "code",
      "source": [
        "# 14. Create a class Employee with a method calculate_salary() that computes the salary based on hours worked and hourly rate. Create a derived class Manager that adds a bonus to the salary.\n",
        "class Employee:\n",
        "    def calculate_salary(self, hours_worked, hourly_rate):\n",
        "        return hours_worked * hourly_rate\n",
        "\n",
        "class Manager(Employee):\n",
        "    def calculate_salary(self, hours_worked, hourly_rate, bonus=0):\n",
        "        base_salary = super().calculate_salary(hours_worked, hourly_rate)\n",
        "        return base_salary + bonus\n",
        "\n",
        "e = Employee()\n",
        "print(e.calculate_salary(40, 20))\n",
        "\n",
        "m = Manager()\n",
        "print(m.calculate_salary(40, 20, 200))\n"
      ],
      "metadata": {
        "colab": {
          "base_uri": "https://localhost:8080/"
        },
        "id": "2eOm-3HaD_kV",
        "outputId": "d1edfd7a-cfd6-4f5e-e0b5-40c588d2920a"
      },
      "execution_count": 15,
      "outputs": [
        {
          "output_type": "stream",
          "name": "stdout",
          "text": [
            "800\n",
            "1000\n"
          ]
        }
      ]
    },
    {
      "cell_type": "code",
      "source": [
        "#15. Create a class Product with attributes name, price, and quantity. Implement a method total_price() that calculates the total price of the product\n",
        "class Product:\n",
        "    def __init__(self, name, price, quantity):\n",
        "        self.name = name\n",
        "        self.price = price\n",
        "        self.quantity = quantity\n",
        "\n",
        "    def total_price(self):\n",
        "        return self.price * self.quantity\n",
        "\n",
        "\n",
        "p = Product(\"Laptop\", 1000, 2)\n",
        "print(p.total_price())\n"
      ],
      "metadata": {
        "colab": {
          "base_uri": "https://localhost:8080/"
        },
        "id": "BIiSRQHsEL7-",
        "outputId": "a4b0f423-79dd-43a7-ee48-70aadb176071"
      },
      "execution_count": 16,
      "outputs": [
        {
          "output_type": "stream",
          "name": "stdout",
          "text": [
            "2000\n"
          ]
        }
      ]
    },
    {
      "cell_type": "code",
      "source": [
        "# 16. Create a class Animal with an abstract method sound(). Create two derived classes Cow and Sheep that implement the sound() method\n",
        "from abc import ABC, abstractmethod\n",
        "\n",
        "class Animal(ABC):\n",
        "    @abstractmethod\n",
        "    def sound(self):\n",
        "        pass\n",
        "\n",
        "class Cow(Animal):\n",
        "    def sound(self):\n",
        "        return \"Moo\"\n",
        "\n",
        "class Sheep(Animal):\n",
        "    def sound(self):\n",
        "        return \"Baa\"\n",
        "\n",
        "\n",
        "c = Cow()\n",
        "s = Sheep()\n",
        "print(c.sound())\n",
        "print(s.sound())\n",
        "\n"
      ],
      "metadata": {
        "colab": {
          "base_uri": "https://localhost:8080/"
        },
        "id": "gOHcUgkZEulN",
        "outputId": "c0b060c3-fe91-46b8-f105-b9ac17e663b3"
      },
      "execution_count": 17,
      "outputs": [
        {
          "output_type": "stream",
          "name": "stdout",
          "text": [
            "Moo\n",
            "Baa\n"
          ]
        }
      ]
    }
  ]
}